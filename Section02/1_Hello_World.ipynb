{
 "cells": [
  {
   "cell_type": "code",
   "execution_count": 1,
   "metadata": {},
   "outputs": [],
   "source": [
    "# code from 2-1 Hello World.py\n",
    "import numpy as np\n",
    "import matplotlib.pyplot as plt\n",
    "%matplotlib inline  \n",
    "import random\n",
    "import tensorflow as tf"
   ]
  },
  {
   "cell_type": "code",
   "execution_count": 2,
   "metadata": {},
   "outputs": [],
   "source": [
    "# Constants\n",
    "NUM = 100\n",
    "b_size = 5\n",
    "epochs = 500"
   ]
  },
  {
   "cell_type": "code",
   "execution_count": 3,
   "metadata": {},
   "outputs": [],
   "source": [
    "# Functions\n",
    "\n",
    "def generateNoise():\n",
    "\t''' This function returns a small random value between -1.0 and 1.0\n",
    "\t'''\n",
    "\tif np.random.random()>0.5:\n",
    "\t\tsign=1\n",
    "\telse:\n",
    "\t\tsign=-1\n",
    "\treturn (np.random.random()*sign)/4\n",
    "\t\t\t\t\t\n",
    "def realFun(p1,p2):\n",
    "\t''' Function the model will learn.\n",
    "\t'''\n",
    "\treturn np.sin(p1)+3+np.cos(p2)\n",
    "\n",
    "def noisyFun(p1,p2):\n",
    "\t''' Measurement of the function including noise.\n",
    "\t'''\n",
    "\treturn realFun(p1,p2)+generateNoise()\n",
    "\n",
    "def shuffleData(data):\n",
    "\t''' This function shuffles the rows of the given data\n",
    "\t'''\n",
    "\trandIndices = [x for x in range(data.shape[0])]\n",
    "\trandom.shuffle(randIndices)\n",
    "\treturn data[randIndices]\n",
    "\n",
    "def generateSets(data,splits):\n",
    "\t''' This function will generate Training, Testing and Validation sets given\n",
    "\t\tthe data (numpy array), splits (list of percentages, i.e. [0.7,0.2,0.1]\n",
    "\t\tcorresponding to 70% training, 20% testing and 10% validation data\n",
    "\t\trespectively\n",
    "\t'''\n",
    "\tcut1 = int(splits[0]*NUM)\n",
    "\tcut2 = int(splits[1]*NUM)\n",
    "\tcut3 = int(splits[2]*NUM)\n",
    "\n",
    "\ttotalIndices = np.array([x for x in range(NUM)])\n",
    "\tindicesTraining = np.array([i*NUM//cut1 + NUM//(2*cut1) for i in range(cut1)])\n",
    "\trestIndices=np.array(sorted(list(set(totalIndices)-set(indicesTraining))))\n",
    "\n",
    "\tindicesTesting = np.array([i*len(restIndices)//cut2 + len(restIndices)//(2*cut2) for i in range(cut2)])\n",
    "\tindicesTesting = restIndices[indicesTesting]\n",
    "\n",
    "\tindicesValidating = np.array(sorted(list(set(restIndices)-set(indicesTesting))))\n",
    "\n",
    "\treturn shuffleData(data[indicesTraining,:]),shuffleData(data[indicesTesting,:]),shuffleData(data[indicesValidating,:])\n",
    "\n",
    "\n",
    "def createNoiseVector():\n",
    "\t''' This function will create a vector that will contain a continuous\n",
    "\t\tamount of noise within a range. For example, within the range between\n",
    "\t\t20-25%, there will be a linear increment of the noise.\n",
    "\t'''\n",
    "\t# 2-3, 7,8\n",
    "\tnoiseVector = np.zeros(NUM)\n",
    "\tinitRange = int(NUM*0.2)\n",
    "\tendRange = int(NUM*0.25)\n",
    "\tnoise = np.linspace(0.2,0.4,num=endRange-initRange)\n",
    "\tnoiseVector[initRange:endRange] = noise\n",
    "\n",
    "\tinitRange = int(NUM*0.7)\n",
    "\tendRange = int(NUM*0.73)\n",
    "\tnoise = np.linspace(0.2,0.5,num=endRange-initRange)\n",
    "\tnoiseVector[initRange:endRange] = noise\n",
    "\n",
    "\treturn noiseVector"
   ]
  },
  {
   "cell_type": "code",
   "execution_count": 4,
   "metadata": {},
   "outputs": [
    {
     "data": {
      "text/plain": [
       "Text(0.5,1,'Noisy Data')"
      ]
     },
     "execution_count": 4,
     "metadata": {},
     "output_type": "execute_result"
    },
    {
     "data": {
      "image/png": "[encoded data removed]",
      "text/plain": [
       "<Figure size 432x288 with 1 Axes>"
      ]
     },
     "metadata": {},
     "output_type": "display_data"
    }
   ],
   "source": [
    "# --- OUR CODE ---\n",
    "### PART 0: THE DATA ### \n",
    "realData = np.zeros(NUM)\n",
    "noisyData = np.zeros((NUM,3))\n",
    "results = np.zeros(NUM) \n",
    "# Parameters\n",
    "p1 = np.linspace(-2,2,num=NUM)\n",
    "p2 = np.linspace(6,12,num=NUM)\n",
    "\n",
    "for i in range(NUM):\n",
    "\trealData[i] = realFun(p1[i],p2[i])\n",
    "\tnoisyData[i,:] = [p1[i],p2[i],noisyFun(p1[i],p2[i])]\n",
    "\n",
    "noisyData[:,-1]+=createNoiseVector()\n",
    "\n",
    "plt.plot(noisyData[:,-1])\n",
    "plt.title(\"Noisy Data\")"
   ]
  },
  {
   "cell_type": "code",
   "execution_count": 5,
   "metadata": {},
   "outputs": [],
   "source": [
    "### PART 1: MODEL ###\n",
    "# Network Parameters\n",
    "n_input = 2\n",
    "n_hidden_1 = 5 \n",
    "n_hidden_2 = 10\n",
    "n_hidden_3 = 12\n",
    "n_hidden_4 = 14\n",
    "n_hidden_5 = 15\n",
    "n_hidden_6 = 12\n",
    "n_hidden_7 = 8\n",
    "n_hidden_8 = 5\n",
    "n_output = 1 \n",
    "\n",
    "tf.reset_default_graph()\n",
    "# https://github.com/tensorflow/tensorflow/issues/859\n",
    "\n",
    "# Store layers weight & bias\n",
    "weights = {\n",
    "\t'h1': tf.Variable(tf.random_normal([n_input, n_hidden_1])),\n",
    "\t'h2': tf.Variable(tf.random_normal([n_hidden_1,n_hidden_2])),\n",
    "\t'h3': tf.Variable(tf.random_normal([n_hidden_2,n_hidden_3])),\n",
    "\t'h4': tf.Variable(tf.random_normal([n_hidden_3,n_hidden_4])),\n",
    "\t'h5': tf.Variable(tf.random_normal([n_hidden_4,n_hidden_5])),\n",
    "\t'h6': tf.Variable(tf.random_normal([n_hidden_5,n_hidden_6])),\n",
    "\t'h7': tf.Variable(tf.random_normal([n_hidden_6,n_hidden_7])),\n",
    "\t'h8': tf.Variable(tf.random_normal([n_hidden_7,n_hidden_8])),\n",
    "\t'out': tf.Variable(tf.random_normal([n_hidden_8, n_output]))\n",
    "}\n",
    "\n",
    "biases = {\n",
    "\t'b1': tf.Variable(tf.zeros([n_hidden_1])),\n",
    "\t'b2': tf.Variable(tf.zeros([n_hidden_2])),\n",
    "\t'b3': tf.Variable(tf.zeros([n_hidden_3])),\n",
    "\t'b4': tf.Variable(tf.zeros([n_hidden_4])),\n",
    "\t'b5': tf.Variable(tf.zeros([n_hidden_5])),\n",
    "\t'b6': tf.Variable(tf.zeros([n_hidden_6])),\n",
    "\t'b7': tf.Variable(tf.zeros([n_hidden_7])),\n",
    "\t'b8': tf.Variable(tf.zeros([n_hidden_8])),\n",
    "\t'out': tf.Variable(tf.zeros([n_output]))\n",
    "}\n",
    "\n",
    "\n",
    "# tf Graph input\n",
    "x = tf.placeholder(\"float\", [None, n_input])\n",
    "y = tf.placeholder(\"float\", [None, n_output])\n",
    "\n",
    "# Hidden layer with RELU activation\n",
    "layer_1 = tf.add(tf.matmul(x, weights['h1']), biases['b1'])\n",
    "layer_1 = tf.nn.sigmoid(layer_1)\n",
    "\n",
    "layer_2 = tf.add(tf.matmul(layer_1, weights['h2']), biases['b2'])\n",
    "layer_2 = tf.nn.sigmoid(layer_2)\n",
    "\n",
    "layer_3 = tf.add(tf.matmul(layer_2, weights['h3']), biases['b3'])\n",
    "layer_3 = tf.nn.sigmoid(layer_3)\n",
    "\n",
    "layer_4 = tf.add(tf.matmul(layer_3, weights['h4']), biases['b4'])\n",
    "layer_4 = tf.nn.sigmoid(layer_4)\n",
    "\n",
    "layer_5 = tf.add(tf.matmul(layer_4, weights['h5']), biases['b5'])\n",
    "layer_5 = tf.nn.sigmoid(layer_5)\n",
    "\n",
    "layer_6 = tf.add(tf.matmul(layer_5, weights['h6']), biases['b6'])\n",
    "layer_6 = tf.nn.sigmoid(layer_6)\n",
    "\n",
    "layer_7 = tf.add(tf.matmul(layer_6, weights['h7']), biases['b7'])\n",
    "layer_7 = tf.nn.sigmoid(layer_7)\n",
    "\n",
    "layer_8 = tf.add(tf.matmul(layer_7, weights['h8']), biases['b8'])\n",
    "layer_8 = tf.nn.sigmoid(layer_8)\n",
    "\n",
    "# Output layer with linear activation\n",
    "pred = tf.add(tf.matmul(layer_8, weights['out']), biases['out'])\n",
    "\n",
    "# Define loss and optimizer\n",
    "cost = tf.reduce_sum(tf.abs(tf.subtract(pred, y)))\n",
    "optimizer = tf.train.AdamOptimizer(learning_rate=0.01).minimize(cost)"
   ]
  },
  {
   "cell_type": "code",
   "execution_count": 6,
   "metadata": {},
   "outputs": [
    {
     "name": "stdout",
     "output_type": "stream",
     "text": [
      "[[0.14137837]]\n",
      "[[0.08691408]]\n"
     ]
    }
   ],
   "source": [
    "### PART 2: RUN THE MODEL ###\n",
    "\n",
    "config = tf.ConfigProto()\n",
    "config.gpu_options.allow_growth=True\n",
    "\n",
    "# Launch the graph\n",
    "with tf.Session(config=config) as sess:\n",
    "\t# Initializing the variables\n",
    "\tsess.run(tf.global_variables_initializer())\n",
    "\t# Generating datasets\n",
    "\ttrainingData,testingData,validationData = generateSets(noisyData,[0.7,0.2,0.1])\n",
    "\n",
    "\tfor e in range(epochs):\n",
    "\n",
    "\t\t# Training cycle\n",
    "\t\tfor i in range(0,trainingData.shape[0],b_size):\n",
    "\t\t\tx_raw = trainingData[i:i+b_size,:-1]\n",
    "\t\t\ty_raw = np.reshape(trainingData[i:i+b_size,-1],(b_size,1))\n",
    "\n",
    "\t\t\t# Run optimization op (backprop) and cost op (to get loss value)\n",
    "\t\t\t_, c = sess.run([optimizer, cost], feed_dict={x: x_raw,y: y_raw})\n",
    "\t\t\t\t\t\n",
    "\n",
    "\t# Testing cycle\n",
    "\ttmpErrorNoisy = 0\n",
    "\ttmpError = 0\n",
    "\tfor i in range(testingData.shape[0]):\n",
    "\t\tx_raw = np.reshape(testingData[i,:-1],(1,2))\n",
    "\t\tprediction = pred.eval({x:x_raw})\n",
    "\t\ttmpErrorNoisy += abs(noisyFun(x_raw[0,0],x_raw[0,1])-prediction)\n",
    "\t\ttmpError += abs(realFun(x_raw[0,0],x_raw[0,1])-prediction)\n",
    "\t\n",
    "\t# Full Test (to check graphically)\n",
    "\tfor i in range(NUM):\n",
    "\t\tx_raw = np.reshape(np.array([p1[i],p2[i]]),(1,2))\n",
    "\t\tresults[i] = pred.eval({x:x_raw})\n",
    "\n",
    "# Print average error\n",
    "print(tmpErrorNoisy/testingData.shape[0])\n",
    "print(tmpError/testingData.shape[0])"
   ]
  },
  {
   "cell_type": "code",
   "execution_count": 7,
   "metadata": {},
   "outputs": [
    {
     "data": {
      "image/png": "[encoded data removed]",
      "text/plain": [
       "<Figure size 432x288 with 1 Axes>"
      ]
     },
     "metadata": {},
     "output_type": "display_data"
    }
   ],
   "source": [
    "# Plot results\n",
    "plt.plot(noisyData[:,-1],label=\"Noisy Data\")\n",
    "plt.plot(realData,label=\"Real Data\")\n",
    "plt.plot(results,label=\"Network output\",color=\"red\")\n",
    "plt.ylabel(\"Temperature\")\n",
    "plt.xlabel(\"Config.\")\n",
    "plt.title(\"Melting point\")\n",
    "plt.legend()\n",
    "plt.show()"
   ]
  },
  {
   "cell_type": "code",
   "execution_count": null,
   "metadata": {},
   "outputs": [],
   "source": []
  }
 ],
 "metadata": {
  "kernelspec": {
   "display_name": "Python 3",
   "language": "python",
   "name": "python3"
  },
  "language_info": {
   "codemirror_mode": {
    "name": "ipython",
    "version": 3
   },
   "file_extension": ".py",
   "mimetype": "text/x-python",
   "name": "python",
   "nbconvert_exporter": "python",
   "pygments_lexer": "ipython3",
   "version": "3.5.2"
  }
 },
 "nbformat": 4,
 "nbformat_minor": 2
}
